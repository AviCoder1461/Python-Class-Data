{
 "cells": [
  {
   "cell_type": "code",
   "execution_count": 1,
   "metadata": {},
   "outputs": [],
   "source": [
    "import pandas as pd"
   ]
  },
  {
   "cell_type": "code",
   "execution_count": 3,
   "metadata": {},
   "outputs": [
    {
     "name": "stdout",
     "output_type": "stream",
     "text": [
      "C:\\Users\\HP P DTS\\Desktop\n"
     ]
    }
   ],
   "source": [
    "cd Desktop/"
   ]
  },
  {
   "cell_type": "code",
   "execution_count": 4,
   "metadata": {},
   "outputs": [
    {
     "name": "stdout",
     "output_type": "stream",
     "text": [
      "C:\\Users\\HP P DTS\\Desktop\\Python Classes\n"
     ]
    }
   ],
   "source": [
    "cd \"Python Classes\""
   ]
  },
  {
   "cell_type": "code",
   "execution_count": 5,
   "metadata": {},
   "outputs": [
    {
     "name": "stdout",
     "output_type": "stream",
     "text": [
      "C:\\Users\\HP P DTS\\Desktop\\Python Classes\\DataSet\n"
     ]
    }
   ],
   "source": [
    "cd DataSet/"
   ]
  },
  {
   "cell_type": "code",
   "execution_count": 6,
   "metadata": {},
   "outputs": [
    {
     "name": "stdout",
     "output_type": "stream",
     "text": [
      " Volume in drive C has no label.\n",
      " Volume Serial Number is 12AD-B436\n",
      "\n",
      " Directory of C:\\Users\\HP P DTS\\Desktop\\Python Classes\\DataSet\n",
      "\n",
      "11-02-2020  20:26    <DIR>          .\n",
      "11-02-2020  20:26    <DIR>          ..\n",
      "29-09-2019  20:23    <DIR>          .ipynb_checkpoints\n",
      "30-08-2018  11:54        18,379,159 911.csv\n",
      "30-08-2018  11:54           107,424 advertising.csv\n",
      "04-02-2020  18:50             8,974 Age_Group.xlsx\n",
      "11-01-2020  22:26               764 air-passengers.zip\n",
      "08-01-2020  07:22            18,827 apple.csv\n",
      "10-02-2020  15:29               193 ATS_RealEstate.csv\n",
      "10-11-2019  20:50         4,882,916 bank.csv\n",
      "12-02-2020  14:13    <DIR>          bengaluru-house-price-data\n",
      "11-02-2020  15:02           199,644 bengaluru-house-price-data.zip\n",
      "12-10-2019  08:29            58,368 cars.xls\n",
      "09-02-2020  07:29               332 cars_milage.csv\n",
      "12-10-2019  07:49    <DIR>          car-sales\n",
      "12-10-2019  07:49             6,987 car-sales.zip\n",
      "30-08-2018  11:54           194,323 Classified Data\n",
      "07-01-2020  13:38               472 Company_DS.csv\n",
      "10-01-2020  21:58            17,071 CSV.csv\n",
      "10-11-2019  21:01            11,550 customer_reviews.csv\n",
      "24-12-2019  12:54         3,181,459 Data science - assignment.xlsx\n",
      "22-12-2019  14:00               233 Data.csv\n",
      "21-12-2019  12:40               101 demo.csv\n",
      "30-08-2018  11:54            89,553 df1\n",
      "30-08-2018  11:54               779 df2\n",
      "30-08-2018  11:54            38,516 df3\n",
      "30-08-2018  11:54         2,745,852 Ecommerce Purchases\n",
      "18-12-2019  14:20               282 EDA.csv\n",
      "05-10-2019  16:07                94 Experience.csv\n",
      "07-01-2020  11:06            18,904 FB.csv\n",
      "29-09-2019  20:23                72 First.ipynb\n",
      "30-01-2020  13:39               632 Group By.csv\n",
      "12-01-2020  11:17                81 House_Price.csv\n",
      "11-02-2020  14:27               199 House_Price_Mult.csv\n",
      "01-10-2019  19:09            49,082 housing.data\n",
      "29-09-2019  20:32             2,080 housing.names\n",
      "01-10-2019  19:18            35,202 Housing_Names.csv\n",
      "28-09-2019  13:44           566,785 HR_comma_sep.csv\n",
      "18-11-2019  18:36           219,196 IMDB_Top250Engmovies2_OMDB_Detailed.csv\n",
      "08-02-2020  08:38               184 insurance_data.csv\n",
      "01-09-2019  21:44             3,858 iris.csv\n",
      "30-08-2018  11:54           186,020 KNN_Project_Data\n",
      "30-08-2018  11:54             1,430 kyphosis.csv\n",
      "30-08-2018  11:54           751,253 loan_data.csv\n",
      "30-01-2020  11:18               120 Missing.csv\n",
      "29-01-2020  17:22               423 Missing_Value.csv\n",
      "02-02-2020  07:47               129 Monroe_House_Price.csv\n",
      "10-01-2020  21:00    <DIR>          multitimeline\n",
      "10-01-2020  20:59             1,111 multitimeline.zip\n",
      "02-02-2020  08:52               120 Multivariate_equations.txt\n",
      "15-12-2019  14:02               304 my.html\n",
      "02-02-2020  07:59               203 My_Experience.csv\n",
      "19-10-2019  11:57    <DIR>          nba-players-stats\n",
      "19-10-2019  11:57         2,232,495 nba-players-stats.zip\n",
      "08-01-2020  07:40            40,576 phone_data.csv\n",
      "06-01-2020  15:37       515,591,518 price-volume-data-for-all-us-stocks-etfs.zip\n",
      "26-11-2019  21:24               700 Product.csv\n",
      "29-09-2019  12:51               118 product.json\n",
      "10-01-2020  20:41           222,365 psd_germany_daily.csv\n",
      "18-11-2019  22:16               387 Purchased_Data.csv\n",
      "06-01-2020  15:33            16,533 reliance.csv\n",
      "27-11-2019  13:09            61,332 Restaurant_Reviews.tsv\n",
      "08-10-2019  21:34         9,306,753 reviews.csv\n",
      "30-08-2018  11:54        16,239,776 Salaries.csv\n",
      "08-02-2020  10:41               673 salary_decision_tree.csv\n",
      "12-01-2020  12:02                86 Sales_Demo_Data.csv\n",
      "11-01-2020  12:50    <DIR>          sales-of-shampoo\n",
      "11-01-2020  07:32               384 sales-of-shampoo.zip\n",
      "27-11-2019  13:33           154,783 sample_submission_gfvA5FD.csv\n",
      "27-12-2019  18:30         3,364,352 SampleSuperstore.xls\n",
      "11-02-2020  15:04           211,387 sao-paulo-real-estate-sale-rent-april-2019.zip\n",
      "20-09-2019  16:44           484,740 Stock Market data .csv\n",
      "06-01-2020  15:30    <DIR>          stock-market-data\n",
      "06-01-2020  15:28           196,397 stock-market-data.zip\n",
      "29-09-2019  16:45             9,332 Student.xlsx\n",
      "06-10-2019  07:03           310,177 Telecom_Data.csv\n",
      "04-02-2020  09:01            10,158 Temperature.xlsx\n",
      "06-01-2020  22:13           526,291 test_t02dQwI.csv\n",
      "27-11-2019  13:33         1,635,543 test_tweets_anuFYb8.csv\n",
      "12-10-2019  13:33    <DIR>          titanic\n",
      "12-10-2019  13:33            34,757 titanic.zip\n",
      "23-02-2018  07:13            61,194 titanic_train.csv\n",
      "27-11-2019  13:33         3,103,165 train_E6oV3lV.csv\n",
      "06-01-2020  22:12           869,535 train_kOBLwZA (1).csv\n",
      "06-01-2020  22:12           869,535 train_kOBLwZA.csv\n",
      "30-08-2018  11:54           726,209 USA_Housing.csv\n",
      "26-11-2019  10:39            11,785 Vendor_Data.csv\n",
      "01-12-2019  22:08           264,426 winequality-white.csv\n",
      "06-01-2020  22:21            18,562 ZBH.csv\n",
      "              79 File(s)    588,357,285 bytes\n",
      "              10 Dir(s)  198,949,830,656 bytes free\n"
     ]
    }
   ],
   "source": [
    "ls"
   ]
  },
  {
   "cell_type": "code",
   "execution_count": 7,
   "metadata": {},
   "outputs": [],
   "source": [
    "insurance=pd.read_csv('insurance_data.csv')"
   ]
  },
  {
   "cell_type": "code",
   "execution_count": 8,
   "metadata": {},
   "outputs": [
    {
     "data": {
      "text/html": [
       "<div>\n",
       "<style scoped>\n",
       "    .dataframe tbody tr th:only-of-type {\n",
       "        vertical-align: middle;\n",
       "    }\n",
       "\n",
       "    .dataframe tbody tr th {\n",
       "        vertical-align: top;\n",
       "    }\n",
       "\n",
       "    .dataframe thead th {\n",
       "        text-align: right;\n",
       "    }\n",
       "</style>\n",
       "<table border=\"1\" class=\"dataframe\">\n",
       "  <thead>\n",
       "    <tr style=\"text-align: right;\">\n",
       "      <th></th>\n",
       "      <th>age</th>\n",
       "      <th>bought_insurance</th>\n",
       "    </tr>\n",
       "  </thead>\n",
       "  <tbody>\n",
       "    <tr>\n",
       "      <th>0</th>\n",
       "      <td>22</td>\n",
       "      <td>0</td>\n",
       "    </tr>\n",
       "    <tr>\n",
       "      <th>1</th>\n",
       "      <td>25</td>\n",
       "      <td>0</td>\n",
       "    </tr>\n",
       "    <tr>\n",
       "      <th>2</th>\n",
       "      <td>47</td>\n",
       "      <td>1</td>\n",
       "    </tr>\n",
       "    <tr>\n",
       "      <th>3</th>\n",
       "      <td>52</td>\n",
       "      <td>0</td>\n",
       "    </tr>\n",
       "    <tr>\n",
       "      <th>4</th>\n",
       "      <td>46</td>\n",
       "      <td>1</td>\n",
       "    </tr>\n",
       "    <tr>\n",
       "      <th>5</th>\n",
       "      <td>56</td>\n",
       "      <td>1</td>\n",
       "    </tr>\n",
       "    <tr>\n",
       "      <th>6</th>\n",
       "      <td>55</td>\n",
       "      <td>0</td>\n",
       "    </tr>\n",
       "    <tr>\n",
       "      <th>7</th>\n",
       "      <td>60</td>\n",
       "      <td>1</td>\n",
       "    </tr>\n",
       "    <tr>\n",
       "      <th>8</th>\n",
       "      <td>62</td>\n",
       "      <td>1</td>\n",
       "    </tr>\n",
       "    <tr>\n",
       "      <th>9</th>\n",
       "      <td>61</td>\n",
       "      <td>1</td>\n",
       "    </tr>\n",
       "    <tr>\n",
       "      <th>10</th>\n",
       "      <td>18</td>\n",
       "      <td>0</td>\n",
       "    </tr>\n",
       "    <tr>\n",
       "      <th>11</th>\n",
       "      <td>28</td>\n",
       "      <td>0</td>\n",
       "    </tr>\n",
       "    <tr>\n",
       "      <th>12</th>\n",
       "      <td>27</td>\n",
       "      <td>0</td>\n",
       "    </tr>\n",
       "    <tr>\n",
       "      <th>13</th>\n",
       "      <td>29</td>\n",
       "      <td>0</td>\n",
       "    </tr>\n",
       "    <tr>\n",
       "      <th>14</th>\n",
       "      <td>49</td>\n",
       "      <td>1</td>\n",
       "    </tr>\n",
       "    <tr>\n",
       "      <th>15</th>\n",
       "      <td>55</td>\n",
       "      <td>1</td>\n",
       "    </tr>\n",
       "    <tr>\n",
       "      <th>16</th>\n",
       "      <td>25</td>\n",
       "      <td>1</td>\n",
       "    </tr>\n",
       "    <tr>\n",
       "      <th>17</th>\n",
       "      <td>58</td>\n",
       "      <td>1</td>\n",
       "    </tr>\n",
       "    <tr>\n",
       "      <th>18</th>\n",
       "      <td>19</td>\n",
       "      <td>0</td>\n",
       "    </tr>\n",
       "    <tr>\n",
       "      <th>19</th>\n",
       "      <td>18</td>\n",
       "      <td>0</td>\n",
       "    </tr>\n",
       "    <tr>\n",
       "      <th>20</th>\n",
       "      <td>21</td>\n",
       "      <td>0</td>\n",
       "    </tr>\n",
       "    <tr>\n",
       "      <th>21</th>\n",
       "      <td>26</td>\n",
       "      <td>0</td>\n",
       "    </tr>\n",
       "    <tr>\n",
       "      <th>22</th>\n",
       "      <td>40</td>\n",
       "      <td>1</td>\n",
       "    </tr>\n",
       "    <tr>\n",
       "      <th>23</th>\n",
       "      <td>45</td>\n",
       "      <td>1</td>\n",
       "    </tr>\n",
       "    <tr>\n",
       "      <th>24</th>\n",
       "      <td>50</td>\n",
       "      <td>1</td>\n",
       "    </tr>\n",
       "    <tr>\n",
       "      <th>25</th>\n",
       "      <td>54</td>\n",
       "      <td>1</td>\n",
       "    </tr>\n",
       "    <tr>\n",
       "      <th>26</th>\n",
       "      <td>23</td>\n",
       "      <td>0</td>\n",
       "    </tr>\n",
       "  </tbody>\n",
       "</table>\n",
       "</div>"
      ],
      "text/plain": [
       "    age  bought_insurance\n",
       "0    22                 0\n",
       "1    25                 0\n",
       "2    47                 1\n",
       "3    52                 0\n",
       "4    46                 1\n",
       "5    56                 1\n",
       "6    55                 0\n",
       "7    60                 1\n",
       "8    62                 1\n",
       "9    61                 1\n",
       "10   18                 0\n",
       "11   28                 0\n",
       "12   27                 0\n",
       "13   29                 0\n",
       "14   49                 1\n",
       "15   55                 1\n",
       "16   25                 1\n",
       "17   58                 1\n",
       "18   19                 0\n",
       "19   18                 0\n",
       "20   21                 0\n",
       "21   26                 0\n",
       "22   40                 1\n",
       "23   45                 1\n",
       "24   50                 1\n",
       "25   54                 1\n",
       "26   23                 0"
      ]
     },
     "execution_count": 8,
     "metadata": {},
     "output_type": "execute_result"
    }
   ],
   "source": [
    "insurance"
   ]
  },
  {
   "cell_type": "code",
   "execution_count": 9,
   "metadata": {},
   "outputs": [],
   "source": [
    "import matplotlib.pyplot as plt"
   ]
  },
  {
   "cell_type": "code",
   "execution_count": 14,
   "metadata": {},
   "outputs": [
    {
     "data": {
      "text/plain": [
       "<matplotlib.collections.PathCollection at 0x21936e980b8>"
      ]
     },
     "execution_count": 14,
     "metadata": {},
     "output_type": "execute_result"
    },
    {
     "data": {
      "image/png": "[encoded data removed]",
      "text/plain": [
       "<Figure size 432x288 with 1 Axes>"
      ]
     },
     "metadata": {
      "needs_background": "light"
     },
     "output_type": "display_data"
    }
   ],
   "source": [
    "plt.scatter(insurance['age'],insurance['bought_insurance'],color='red',marker='+')"
   ]
  },
  {
   "cell_type": "code",
   "execution_count": 18,
   "metadata": {},
   "outputs": [
    {
     "name": "stderr",
     "output_type": "stream",
     "text": [
      "E:\\ProgramData\\Anaconda3\\lib\\site-packages\\sklearn\\linear_model\\logistic.py:432: FutureWarning: Default solver will be changed to 'lbfgs' in 0.22. Specify a solver to silence this warning.\n",
      "  FutureWarning)\n"
     ]
    },
    {
     "data": {
      "text/plain": [
       "LogisticRegression(C=1.0, class_weight=None, dual=False, fit_intercept=True,\n",
       "                   intercept_scaling=1, l1_ratio=None, max_iter=100,\n",
       "                   multi_class='warn', n_jobs=None, penalty='l2',\n",
       "                   random_state=None, solver='warn', tol=0.0001, verbose=0,\n",
       "                   warm_start=False)"
      ]
     },
     "execution_count": 18,
     "metadata": {},
     "output_type": "execute_result"
    }
   ],
   "source": [
    "from sklearn.linear_model import LogisticRegression\n",
    "model=LogisticRegression() # we are create the object of LogisticRegression class\n",
    "model.fit(insurance.drop('bought_insurance',axis=1),insurance['bought_insurance'])"
   ]
  },
  {
   "cell_type": "code",
   "execution_count": 19,
   "metadata": {},
   "outputs": [
    {
     "data": {
      "text/plain": [
       "array([0], dtype=int64)"
      ]
     },
     "execution_count": 19,
     "metadata": {},
     "output_type": "execute_result"
    }
   ],
   "source": [
    "model.predict([[10]])"
   ]
  },
  {
   "cell_type": "code",
   "execution_count": 20,
   "metadata": {},
   "outputs": [
    {
     "data": {
      "text/plain": [
       "array([1], dtype=int64)"
      ]
     },
     "execution_count": 20,
     "metadata": {},
     "output_type": "execute_result"
    }
   ],
   "source": [
    "model.predict([[90]])"
   ]
  },
  {
   "cell_type": "code",
   "execution_count": 22,
   "metadata": {},
   "outputs": [
    {
     "data": {
      "text/plain": [
       "array([[0.05589224]])"
      ]
     },
     "execution_count": 22,
     "metadata": {},
     "output_type": "execute_result"
    }
   ],
   "source": [
    "model.coef_"
   ]
  },
  {
   "cell_type": "code",
   "execution_count": 23,
   "metadata": {},
   "outputs": [
    {
     "data": {
      "text/plain": [
       "array([-1.80953063])"
      ]
     },
     "execution_count": 23,
     "metadata": {},
     "output_type": "execute_result"
    }
   ],
   "source": [
    "model.intercept_"
   ]
  },
  {
   "cell_type": "code",
   "execution_count": null,
   "metadata": {},
   "outputs": [],
   "source": []
  }
 ],
 "metadata": {
  "kernelspec": {
   "display_name": "Python 3",
   "language": "python",
   "name": "python3"
  },
  "language_info": {
   "codemirror_mode": {
    "name": "ipython",
    "version": 3
   },
   "file_extension": ".py",
   "mimetype": "text/x-python",
   "name": "python",
   "nbconvert_exporter": "python",
   "pygments_lexer": "ipython3",
   "version": "3.7.3"
  },
  "varInspector": {
   "cols": {
    "lenName": 16,
    "lenType": 16,
    "lenVar": 40
   },
   "kernels_config": {
    "python": {
     "delete_cmd_postfix": "",
     "delete_cmd_prefix": "del ",
     "library": "var_list.py",
     "varRefreshCmd": "print(var_dic_list())"
    },
    "r": {
     "delete_cmd_postfix": ") ",
     "delete_cmd_prefix": "rm(",
     "library": "var_list.r",
     "varRefreshCmd": "cat(var_dic_list()) "
    }
   },
   "types_to_exclude": [
    "module",
    "function",
    "builtin_function_or_method",
    "instance",
    "_Feature"
   ],
   "window_display": false
  }
 },
 "nbformat": 4,
 "nbformat_minor": 2
}
