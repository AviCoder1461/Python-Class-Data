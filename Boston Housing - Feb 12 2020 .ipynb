{
 "cells": [
  {
   "cell_type": "code",
   "execution_count": 1,
   "metadata": {},
   "outputs": [],
   "source": [
    "import pandas as pd"
   ]
  },
  {
   "cell_type": "code",
   "execution_count": 2,
   "metadata": {},
   "outputs": [
    {
     "name": "stdout",
     "output_type": "stream",
     "text": [
      "C:\\Users\\HP P DTS\\Desktop\n"
     ]
    }
   ],
   "source": [
    "cd Desktop/"
   ]
  },
  {
   "cell_type": "code",
   "execution_count": 3,
   "metadata": {},
   "outputs": [
    {
     "name": "stdout",
     "output_type": "stream",
     "text": [
      "C:\\Users\\HP P DTS\\Desktop\\Python Classes\n"
     ]
    }
   ],
   "source": [
    "cd \"Python Classes\""
   ]
  },
  {
   "cell_type": "code",
   "execution_count": 4,
   "metadata": {},
   "outputs": [
    {
     "name": "stdout",
     "output_type": "stream",
     "text": [
      "C:\\Users\\HP P DTS\\Desktop\\Python Classes\\DataSet\n"
     ]
    }
   ],
   "source": [
    "cd DataSet/"
   ]
  },
  {
   "cell_type": "code",
   "execution_count": 5,
   "metadata": {},
   "outputs": [
    {
     "name": "stdout",
     "output_type": "stream",
     "text": [
      " Volume in drive C has no label.\n",
      " Volume Serial Number is 12AD-B436\n",
      "\n",
      " Directory of C:\\Users\\HP P DTS\\Desktop\\Python Classes\\DataSet\n",
      "\n",
      "11-02-2020  20:26    <DIR>          .\n",
      "11-02-2020  20:26    <DIR>          ..\n",
      "29-09-2019  20:23    <DIR>          .ipynb_checkpoints\n",
      "30-08-2018  11:54        18,379,159 911.csv\n",
      "30-08-2018  11:54           107,424 advertising.csv\n",
      "04-02-2020  18:50             8,974 Age_Group.xlsx\n",
      "11-01-2020  22:26               764 air-passengers.zip\n",
      "08-01-2020  07:22            18,827 apple.csv\n",
      "10-02-2020  15:29               193 ATS_RealEstate.csv\n",
      "10-11-2019  20:50         4,882,916 bank.csv\n",
      "12-02-2020  14:13    <DIR>          bengaluru-house-price-data\n",
      "11-02-2020  15:02           199,644 bengaluru-house-price-data.zip\n",
      "12-10-2019  08:29            58,368 cars.xls\n",
      "09-02-2020  07:29               332 cars_milage.csv\n",
      "12-10-2019  07:49    <DIR>          car-sales\n",
      "12-10-2019  07:49             6,987 car-sales.zip\n",
      "30-08-2018  11:54           194,323 Classified Data\n",
      "07-01-2020  13:38               472 Company_DS.csv\n",
      "10-01-2020  21:58            17,071 CSV.csv\n",
      "10-11-2019  21:01            11,550 customer_reviews.csv\n",
      "24-12-2019  12:54         3,181,459 Data science - assignment.xlsx\n",
      "22-12-2019  14:00               233 Data.csv\n",
      "21-12-2019  12:40               101 demo.csv\n",
      "30-08-2018  11:54            89,553 df1\n",
      "30-08-2018  11:54               779 df2\n",
      "30-08-2018  11:54            38,516 df3\n",
      "30-08-2018  11:54         2,745,852 Ecommerce Purchases\n",
      "18-12-2019  14:20               282 EDA.csv\n",
      "05-10-2019  16:07                94 Experience.csv\n",
      "07-01-2020  11:06            18,904 FB.csv\n",
      "29-09-2019  20:23                72 First.ipynb\n",
      "30-01-2020  13:39               632 Group By.csv\n",
      "12-01-2020  11:17                81 House_Price.csv\n",
      "11-02-2020  14:27               199 House_Price_Mult.csv\n",
      "01-10-2019  19:09            49,082 housing.data\n",
      "29-09-2019  20:32             2,080 housing.names\n",
      "01-10-2019  19:18            35,202 Housing_Names.csv\n",
      "28-09-2019  13:44           566,785 HR_comma_sep.csv\n",
      "18-11-2019  18:36           219,196 IMDB_Top250Engmovies2_OMDB_Detailed.csv\n",
      "08-02-2020  08:38               184 insurance_data.csv\n",
      "01-09-2019  21:44             3,858 iris.csv\n",
      "30-08-2018  11:54           186,020 KNN_Project_Data\n",
      "30-08-2018  11:54             1,430 kyphosis.csv\n",
      "30-08-2018  11:54           751,253 loan_data.csv\n",
      "30-01-2020  11:18               120 Missing.csv\n",
      "29-01-2020  17:22               423 Missing_Value.csv\n",
      "02-02-2020  07:47               129 Monroe_House_Price.csv\n",
      "10-01-2020  21:00    <DIR>          multitimeline\n",
      "10-01-2020  20:59             1,111 multitimeline.zip\n",
      "02-02-2020  08:52               120 Multivariate_equations.txt\n",
      "15-12-2019  14:02               304 my.html\n",
      "02-02-2020  07:59               203 My_Experience.csv\n",
      "19-10-2019  11:57    <DIR>          nba-players-stats\n",
      "19-10-2019  11:57         2,232,495 nba-players-stats.zip\n",
      "08-01-2020  07:40            40,576 phone_data.csv\n",
      "06-01-2020  15:37       515,591,518 price-volume-data-for-all-us-stocks-etfs.zip\n",
      "26-11-2019  21:24               700 Product.csv\n",
      "29-09-2019  12:51               118 product.json\n",
      "10-01-2020  20:41           222,365 psd_germany_daily.csv\n",
      "18-11-2019  22:16               387 Purchased_Data.csv\n",
      "06-01-2020  15:33            16,533 reliance.csv\n",
      "27-11-2019  13:09            61,332 Restaurant_Reviews.tsv\n",
      "08-10-2019  21:34         9,306,753 reviews.csv\n",
      "30-08-2018  11:54        16,239,776 Salaries.csv\n",
      "08-02-2020  10:41               673 salary_decision_tree.csv\n",
      "12-01-2020  12:02                86 Sales_Demo_Data.csv\n",
      "11-01-2020  12:50    <DIR>          sales-of-shampoo\n",
      "11-01-2020  07:32               384 sales-of-shampoo.zip\n",
      "27-11-2019  13:33           154,783 sample_submission_gfvA5FD.csv\n",
      "27-12-2019  18:30         3,364,352 SampleSuperstore.xls\n",
      "11-02-2020  15:04           211,387 sao-paulo-real-estate-sale-rent-april-2019.zip\n",
      "20-09-2019  16:44           484,740 Stock Market data .csv\n",
      "06-01-2020  15:30    <DIR>          stock-market-data\n",
      "06-01-2020  15:28           196,397 stock-market-data.zip\n",
      "29-09-2019  16:45             9,332 Student.xlsx\n",
      "06-10-2019  07:03           310,177 Telecom_Data.csv\n",
      "04-02-2020  09:01            10,158 Temperature.xlsx\n",
      "06-01-2020  22:13           526,291 test_t02dQwI.csv\n",
      "27-11-2019  13:33         1,635,543 test_tweets_anuFYb8.csv\n",
      "12-10-2019  13:33    <DIR>          titanic\n",
      "12-10-2019  13:33            34,757 titanic.zip\n",
      "23-02-2018  07:13            61,194 titanic_train.csv\n",
      "27-11-2019  13:33         3,103,165 train_E6oV3lV.csv\n",
      "06-01-2020  22:12           869,535 train_kOBLwZA (1).csv\n",
      "06-01-2020  22:12           869,535 train_kOBLwZA.csv\n",
      "30-08-2018  11:54           726,209 USA_Housing.csv\n",
      "26-11-2019  10:39            11,785 Vendor_Data.csv\n",
      "01-12-2019  22:08           264,426 winequality-white.csv\n",
      "06-01-2020  22:21            18,562 ZBH.csv\n",
      "              79 File(s)    588,357,285 bytes\n",
      "              10 Dir(s)  198,840,909,824 bytes free\n"
     ]
    }
   ],
   "source": [
    "ls"
   ]
  },
  {
   "cell_type": "code",
   "execution_count": 6,
   "metadata": {},
   "outputs": [],
   "source": [
    "housing=pd.read_csv('USA_Housing.csv')"
   ]
  },
  {
   "cell_type": "code",
   "execution_count": 8,
   "metadata": {},
   "outputs": [
    {
     "data": {
      "text/html": [
       "<div>\n",
       "<style scoped>\n",
       "    .dataframe tbody tr th:only-of-type {\n",
       "        vertical-align: middle;\n",
       "    }\n",
       "\n",
       "    .dataframe tbody tr th {\n",
       "        vertical-align: top;\n",
       "    }\n",
       "\n",
       "    .dataframe thead th {\n",
       "        text-align: right;\n",
       "    }\n",
       "</style>\n",
       "<table border=\"1\" class=\"dataframe\">\n",
       "  <thead>\n",
       "    <tr style=\"text-align: right;\">\n",
       "      <th></th>\n",
       "      <th>Avg. Area Income</th>\n",
       "      <th>Avg. Area House Age</th>\n",
       "      <th>Avg. Area Number of Rooms</th>\n",
       "      <th>Avg. Area Number of Bedrooms</th>\n",
       "      <th>Area Population</th>\n",
       "      <th>Price</th>\n",
       "      <th>Address</th>\n",
       "    </tr>\n",
       "  </thead>\n",
       "  <tbody>\n",
       "    <tr>\n",
       "      <th>0</th>\n",
       "      <td>79545.458574</td>\n",
       "      <td>5.682861</td>\n",
       "      <td>7.009188</td>\n",
       "      <td>4.09</td>\n",
       "      <td>23086.800503</td>\n",
       "      <td>1.059034e+06</td>\n",
       "      <td>208 Michael Ferry Apt. 674\\nLaurabury, NE 3701...</td>\n",
       "    </tr>\n",
       "    <tr>\n",
       "      <th>1</th>\n",
       "      <td>79248.642455</td>\n",
       "      <td>6.002900</td>\n",
       "      <td>6.730821</td>\n",
       "      <td>3.09</td>\n",
       "      <td>40173.072174</td>\n",
       "      <td>1.505891e+06</td>\n",
       "      <td>188 Johnson Views Suite 079\\nLake Kathleen, CA...</td>\n",
       "    </tr>\n",
       "    <tr>\n",
       "      <th>2</th>\n",
       "      <td>61287.067179</td>\n",
       "      <td>5.865890</td>\n",
       "      <td>8.512727</td>\n",
       "      <td>5.13</td>\n",
       "      <td>36882.159400</td>\n",
       "      <td>1.058988e+06</td>\n",
       "      <td>9127 Elizabeth Stravenue\\nDanieltown, WI 06482...</td>\n",
       "    </tr>\n",
       "    <tr>\n",
       "      <th>3</th>\n",
       "      <td>63345.240046</td>\n",
       "      <td>7.188236</td>\n",
       "      <td>5.586729</td>\n",
       "      <td>3.26</td>\n",
       "      <td>34310.242831</td>\n",
       "      <td>1.260617e+06</td>\n",
       "      <td>USS Barnett\\nFPO AP 44820</td>\n",
       "    </tr>\n",
       "    <tr>\n",
       "      <th>4</th>\n",
       "      <td>59982.197226</td>\n",
       "      <td>5.040555</td>\n",
       "      <td>7.839388</td>\n",
       "      <td>4.23</td>\n",
       "      <td>26354.109472</td>\n",
       "      <td>6.309435e+05</td>\n",
       "      <td>USNS Raymond\\nFPO AE 09386</td>\n",
       "    </tr>\n",
       "  </tbody>\n",
       "</table>\n",
       "</div>"
      ],
      "text/plain": [
       "   Avg. Area Income  Avg. Area House Age  Avg. Area Number of Rooms  \\\n",
       "0      79545.458574             5.682861                   7.009188   \n",
       "1      79248.642455             6.002900                   6.730821   \n",
       "2      61287.067179             5.865890                   8.512727   \n",
       "3      63345.240046             7.188236                   5.586729   \n",
       "4      59982.197226             5.040555                   7.839388   \n",
       "\n",
       "   Avg. Area Number of Bedrooms  Area Population         Price  \\\n",
       "0                          4.09     23086.800503  1.059034e+06   \n",
       "1                          3.09     40173.072174  1.505891e+06   \n",
       "2                          5.13     36882.159400  1.058988e+06   \n",
       "3                          3.26     34310.242831  1.260617e+06   \n",
       "4                          4.23     26354.109472  6.309435e+05   \n",
       "\n",
       "                                             Address  \n",
       "0  208 Michael Ferry Apt. 674\\nLaurabury, NE 3701...  \n",
       "1  188 Johnson Views Suite 079\\nLake Kathleen, CA...  \n",
       "2  9127 Elizabeth Stravenue\\nDanieltown, WI 06482...  \n",
       "3                          USS Barnett\\nFPO AP 44820  \n",
       "4                         USNS Raymond\\nFPO AE 09386  "
      ]
     },
     "execution_count": 8,
     "metadata": {},
     "output_type": "execute_result"
    }
   ],
   "source": [
    "housing.head()"
   ]
  },
  {
   "cell_type": "code",
   "execution_count": 9,
   "metadata": {},
   "outputs": [],
   "source": [
    "from sklearn.linear_model import LinearRegression"
   ]
  },
  {
   "cell_type": "code",
   "execution_count": 10,
   "metadata": {},
   "outputs": [],
   "source": [
    "model=LinearRegression()"
   ]
  },
  {
   "cell_type": "code",
   "execution_count": 11,
   "metadata": {},
   "outputs": [
    {
     "data": {
      "text/plain": [
       "Index(['Avg. Area Income', 'Avg. Area House Age', 'Avg. Area Number of Rooms',\n",
       "       'Avg. Area Number of Bedrooms', 'Area Population', 'Price', 'Address'],\n",
       "      dtype='object')"
      ]
     },
     "execution_count": 11,
     "metadata": {},
     "output_type": "execute_result"
    }
   ],
   "source": [
    "housing.columns"
   ]
  },
  {
   "cell_type": "code",
   "execution_count": 12,
   "metadata": {},
   "outputs": [
    {
     "data": {
      "text/plain": [
       "LinearRegression(copy_X=True, fit_intercept=True, n_jobs=None, normalize=False)"
      ]
     },
     "execution_count": 12,
     "metadata": {},
     "output_type": "execute_result"
    }
   ],
   "source": [
    "model.fit(housing.drop(['Price', 'Address'],axis=1),housing['Price'])"
   ]
  },
  {
   "cell_type": "code",
   "execution_count": 13,
   "metadata": {},
   "outputs": [
    {
     "data": {
      "text/plain": [
       "array([1223846.97225061])"
      ]
     },
     "execution_count": 13,
     "metadata": {},
     "output_type": "execute_result"
    }
   ],
   "source": [
    "model.predict([[79545.458574,5.682861,7.009188,4.09,23086.800503]])"
   ]
  },
  {
   "cell_type": "code",
   "execution_count": 14,
   "metadata": {},
   "outputs": [
    {
     "data": {
      "text/plain": [
       "array([2.15780494e+01, 1.65637027e+05, 1.20659949e+05, 1.65113905e+03,\n",
       "       1.52007439e+01])"
      ]
     },
     "execution_count": 14,
     "metadata": {},
     "output_type": "execute_result"
    }
   ],
   "source": [
    "model.coef_"
   ]
  },
  {
   "cell_type": "code",
   "execution_count": 15,
   "metadata": {},
   "outputs": [
    {
     "data": {
      "text/plain": [
       "-2637299.033328599"
      ]
     },
     "execution_count": 15,
     "metadata": {},
     "output_type": "execute_result"
    }
   ],
   "source": [
    "model.intercept_"
   ]
  },
  {
   "cell_type": "code",
   "execution_count": 16,
   "metadata": {},
   "outputs": [],
   "source": [
    "import pickle"
   ]
  },
  {
   "cell_type": "code",
   "execution_count": 19,
   "metadata": {},
   "outputs": [],
   "source": [
    "file=open('housing_model','wb')"
   ]
  },
  {
   "cell_type": "code",
   "execution_count": 20,
   "metadata": {},
   "outputs": [],
   "source": [
    "pickle.dump(model,file)"
   ]
  },
  {
   "cell_type": "code",
   "execution_count": 21,
   "metadata": {},
   "outputs": [],
   "source": [
    "file1=open('housing_model','rb')"
   ]
  },
  {
   "cell_type": "code",
   "execution_count": 22,
   "metadata": {},
   "outputs": [],
   "source": [
    "md=pickle.load(file1)"
   ]
  },
  {
   "cell_type": "code",
   "execution_count": 24,
   "metadata": {},
   "outputs": [
    {
     "data": {
      "text/plain": [
       "array([2.15780494e+01, 1.65637027e+05, 1.20659949e+05, 1.65113905e+03,\n",
       "       1.52007439e+01])"
      ]
     },
     "execution_count": 24,
     "metadata": {},
     "output_type": "execute_result"
    }
   ],
   "source": [
    "md.coef_"
   ]
  },
  {
   "cell_type": "code",
   "execution_count": 25,
   "metadata": {},
   "outputs": [
    {
     "data": {
      "text/plain": [
       "-2637299.033328599"
      ]
     },
     "execution_count": 25,
     "metadata": {},
     "output_type": "execute_result"
    }
   ],
   "source": [
    "md.intercept_"
   ]
  },
  {
   "cell_type": "code",
   "execution_count": 26,
   "metadata": {},
   "outputs": [
    {
     "data": {
      "text/plain": [
       "array([1223846.97225061])"
      ]
     },
     "execution_count": 26,
     "metadata": {},
     "output_type": "execute_result"
    }
   ],
   "source": [
    "md.predict([[79545.458574,5.682861,7.009188,4.09,23086.800503]])"
   ]
  },
  {
   "cell_type": "code",
   "execution_count": 27,
   "metadata": {},
   "outputs": [],
   "source": [
    "# joblib\n",
    "from sklearn.externals import joblib"
   ]
  },
  {
   "cell_type": "code",
   "execution_count": 28,
   "metadata": {},
   "outputs": [
    {
     "data": {
      "text/plain": [
       "['housing_joblib']"
      ]
     },
     "execution_count": 28,
     "metadata": {},
     "output_type": "execute_result"
    }
   ],
   "source": [
    "joblib.dump(model,'housing_joblib')"
   ]
  },
  {
   "cell_type": "code",
   "execution_count": 29,
   "metadata": {},
   "outputs": [],
   "source": [
    "md1=joblib.load('housing_joblib')"
   ]
  },
  {
   "cell_type": "code",
   "execution_count": 30,
   "metadata": {},
   "outputs": [
    {
     "data": {
      "text/plain": [
       "array([2.15780494e+01, 1.65637027e+05, 1.20659949e+05, 1.65113905e+03,\n",
       "       1.52007439e+01])"
      ]
     },
     "execution_count": 30,
     "metadata": {},
     "output_type": "execute_result"
    }
   ],
   "source": [
    "md1.coef_"
   ]
  },
  {
   "cell_type": "code",
   "execution_count": 31,
   "metadata": {},
   "outputs": [
    {
     "data": {
      "text/plain": [
       "-2637299.033328599"
      ]
     },
     "execution_count": 31,
     "metadata": {},
     "output_type": "execute_result"
    }
   ],
   "source": [
    "md1.intercept_"
   ]
  },
  {
   "cell_type": "code",
   "execution_count": null,
   "metadata": {},
   "outputs": [],
   "source": []
  }
 ],
 "metadata": {
  "kernelspec": {
   "display_name": "Python 3",
   "language": "python",
   "name": "python3"
  },
  "language_info": {
   "codemirror_mode": {
    "name": "ipython",
    "version": 3
   },
   "file_extension": ".py",
   "mimetype": "text/x-python",
   "name": "python",
   "nbconvert_exporter": "python",
   "pygments_lexer": "ipython3",
   "version": "3.7.3"
  },
  "varInspector": {
   "cols": {
    "lenName": 16,
    "lenType": 16,
    "lenVar": 40
   },
   "kernels_config": {
    "python": {
     "delete_cmd_postfix": "",
     "delete_cmd_prefix": "del ",
     "library": "var_list.py",
     "varRefreshCmd": "print(var_dic_list())"
    },
    "r": {
     "delete_cmd_postfix": ") ",
     "delete_cmd_prefix": "rm(",
     "library": "var_list.r",
     "varRefreshCmd": "cat(var_dic_list()) "
    }
   },
   "types_to_exclude": [
    "module",
    "function",
    "builtin_function_or_method",
    "instance",
    "_Feature"
   ],
   "window_display": false
  }
 },
 "nbformat": 4,
 "nbformat_minor": 2
}
