{
 "cells": [
  {
   "cell_type": "code",
   "execution_count": 1,
   "metadata": {},
   "outputs": [],
   "source": [
    "import cx_Oracle as cx"
   ]
  },
  {
   "cell_type": "code",
   "execution_count": 2,
   "metadata": {},
   "outputs": [],
   "source": [
    "def Menu():\n",
    "    ans=0\n",
    "    print('1. Compose Mail')\n",
    "    print('2. Edit Mail')\n",
    "    print('3. Delete Mail')\n",
    "    print('4. Mark Spam')\n",
    "    print('5. Inbox')\n",
    "    print('6. Spam')\n",
    "    print('7. Trash')\n",
    "    ans=int(input('Enter your choice'))\n",
    "    return ans"
   ]
  },
  {
   "cell_type": "code",
   "execution_count": 3,
   "metadata": {},
   "outputs": [],
   "source": [
    "def ComposeMail():\n",
    "    sub=input('Enter subject of Email')\n",
    "    body=input('Enter your mail message')\n",
    "    "
   ]
  },
  {
   "cell_type": "code",
   "execution_count": 4,
   "metadata": {},
   "outputs": [],
   "source": [
    "def InsertMail(sub,body):\n",
    "    try:\n",
    "        cn=cx.connect('scott/tiger@localhost:1521/orcl')\n",
    "        cur=cn.cursor()\n",
    "        ins_command='''\n",
    "        insert into tbl_Gmail\n",
    "        values(mail_seq.NextVal,:s,:b,'N','N',sysdate)\n",
    "        '''\n",
    "        para=[sub,body]\n",
    "        cur.execute(ins_command,para)\n",
    "        cn.commit()\n",
    "    except:\n",
    "        print('Error connection or command')\n",
    "    finally:\n",
    "        cur=None\n",
    "        ins_command=None\n",
    "        cn.close()\n",
    "        cn=None"
   ]
  },
  {
   "cell_type": "code",
   "execution_count": 5,
   "metadata": {},
   "outputs": [],
   "source": [
    "#InsertMail('Test','This is my test mail')"
   ]
  },
  {
   "cell_type": "code",
   "execution_count": 6,
   "metadata": {},
   "outputs": [],
   "source": [
    "def Inbox():\n",
    "    try:\n",
    "        cn=cx.connect('scott/tiger@localhost:1521/orcl')\n",
    "        cur=cn.cursor()\n",
    "        select_command='''\n",
    "        Select * from tbl_gmail\n",
    "        where isdeleted='N' and isspam='N'\n",
    "        '''\n",
    "        record=cur.execute(select_command)\n",
    "        for r in record:\n",
    "            print(r)\n",
    "    except:\n",
    "        cn.close()\n",
    "        cur=None\n",
    "        select_command=None\n",
    "        cn=None"
   ]
  },
  {
   "cell_type": "code",
   "execution_count": 8,
   "metadata": {},
   "outputs": [
    {
     "name": "stdout",
     "output_type": "stream",
     "text": [
      "(2, 'Test', 'This is my test mail', 'N', 'N', datetime.datetime(2019, 12, 31, 16, 1, 6))\n"
     ]
    }
   ],
   "source": [
    "Inbox()"
   ]
  },
  {
   "cell_type": "code",
   "execution_count": 9,
   "metadata": {},
   "outputs": [],
   "source": [
    "def Trash():\n",
    "    try:\n",
    "        cn=cx.connect('scott/tiger@localhost:1521/orcl')\n",
    "        cur=cn.cursor()\n",
    "        select_command='''\n",
    "        Select * from tbl_gmail\n",
    "        where isdeleted='Y'\n",
    "        '''\n",
    "        record=cur.execute(select_command)\n",
    "        for r in record:\n",
    "            print(r)\n",
    "    except:\n",
    "        cn.close()\n",
    "        cur=None\n",
    "        select_command=None\n",
    "        cn=None"
   ]
  },
  {
   "cell_type": "code",
   "execution_count": 10,
   "metadata": {},
   "outputs": [],
   "source": [
    "def Spam():\n",
    "    try:\n",
    "        cn=cx.connect('scott/tiger@localhost:1521/orcl')\n",
    "        cur=cn.cursor()\n",
    "        select_command='''\n",
    "        Select * from tbl_gmail\n",
    "        where isspam='Y'\n",
    "        '''\n",
    "        record=cur.execute(select_command)\n",
    "        for r in record:\n",
    "            print(r)\n",
    "    except:\n",
    "        cn.close()\n",
    "        cur=None\n",
    "        select_command=None\n",
    "        cn=None"
   ]
  },
  {
   "cell_type": "code",
   "execution_count": 19,
   "metadata": {},
   "outputs": [],
   "source": [
    "def EditMail():\n",
    "    try:\n",
    "        cn=cx.connect('scott/tiger@localhost:1521/orcl')\n",
    "        cur=cn.cursor()\n",
    "        select_command='''\n",
    "        Select * from tbl_gmail\n",
    "        where isspam='N' and isdeleted='N'\n",
    "        '''\n",
    "        record=cur.execute(select_command)\n",
    "        for r in record:\n",
    "            print(r[0],'\\t',r[1],'\\t',r[2])\n",
    "        rec_id=int(input('Pass id which you want to edit'))\n",
    "        sub=input('Enter new subject')\n",
    "        cont=input('Enter new content of the email')\n",
    "        cur1=cn.cursor()\n",
    "        update_command='''\n",
    "        update tbl_gmail\n",
    "        set subject=:s,\n",
    "        email_body=:c\n",
    "        where ID=:r\n",
    "        '''\n",
    "        para=[sub,cont,rec_id]\n",
    "        cur1.execute(update_command,para)\n",
    "        cn.commit()\n",
    "    except:\n",
    "        print('connection and command error')\n",
    "    finally:\n",
    "        cn.close()\n",
    "        cn=None\n",
    "        cur=None\n",
    "        cur1=None\n",
    "        update_command=None\n",
    "    "
   ]
  },
  {
   "cell_type": "code",
   "execution_count": 23,
   "metadata": {},
   "outputs": [],
   "source": [
    "def DeleteMail():\n",
    "    try:\n",
    "        cn=cx.connect('scott/tiger@localhost:1521/orcl')\n",
    "        cur=cn.cursor()\n",
    "        select_command='''\n",
    "        Select * from tbl_gmail\n",
    "        where isspam='N' and isdeleted='N'\n",
    "        '''\n",
    "        record=cur.execute(select_command)\n",
    "        for r in record:\n",
    "            print(r[0],'\\t',r[1],'\\t',r[2])\n",
    "        rec_id=int(input('Pass id which you want to edit'))\n",
    "        cur1=cn.cursor()\n",
    "        update_command='''\n",
    "        update tbl_gmail\n",
    "        set isdeleted=:s\n",
    "        where ID=:r\n",
    "        '''\n",
    "        para=['Y',rec_id]\n",
    "        cur1.execute(update_command,para)\n",
    "        cn.commit()\n",
    "    except:\n",
    "        print('connection and command error')\n",
    "    finally:\n",
    "        cn.close()\n",
    "        cn=None\n",
    "        cur=None\n",
    "        update_command=None"
   ]
  },
  {
   "cell_type": "code",
   "execution_count": 22,
   "metadata": {},
   "outputs": [
    {
     "name": "stdout",
     "output_type": "stream",
     "text": [
      "2 \t NEw year \t new year 2020\n",
      "Pass id which you want to edit2\n"
     ]
    }
   ],
   "source": [
    "        cn=cx.connect('scott/tiger@localhost:1521/orcl')\n",
    "        cur=cn.cursor()\n",
    "        select_command='''\n",
    "        Select * from tbl_gmail\n",
    "        where isspam='N' and isdeleted='N'\n",
    "        '''\n",
    "        record=cur.execute(select_command)\n",
    "        for r in record:\n",
    "            print(r[0],'\\t',r[1],'\\t',r[2])\n",
    "        rec_id=int(input('Pass id which you want to edit'))\n",
    "        cur1=cn.cursor()\n",
    "        update_command='''\n",
    "        update tbl_gmail\n",
    "        set isspam=:s\n",
    "        where ID=:r\n",
    "        '''\n",
    "        para=['Y',rec_id]\n",
    "        cur1.execute(update_command,para)\n",
    "        cn.commit()"
   ]
  },
  {
   "cell_type": "code",
   "execution_count": 25,
   "metadata": {},
   "outputs": [
    {
     "ename": "SyntaxError",
     "evalue": "invalid syntax (<ipython-input-25-7518b0d5428c>, line 14)",
     "output_type": "error",
     "traceback": [
      "\u001b[1;36m  File \u001b[1;32m\"<ipython-input-25-7518b0d5428c>\"\u001b[1;36m, line \u001b[1;32m14\u001b[0m\n\u001b[1;33m    cur1=cn.cursor()\u001b[0m\n\u001b[1;37m       ^\u001b[0m\n\u001b[1;31mSyntaxError\u001b[0m\u001b[1;31m:\u001b[0m invalid syntax\n"
     ]
    }
   ],
   "source": [
    "def Spam():\n",
    "    try:\n",
    "        cn=cx.connect('scott/tiger@localhost:1521/orcl')\n",
    "        cur=cn.cursor()\n",
    "        select_command='''\n",
    "            Select * from tbl_gmail\n",
    "            where isspam='N' and isdeleted='N'\n",
    "        '''\n",
    "        record=cur.execute(select_command)\n",
    "        for r in record:\n",
    "            print(r[0],'\\t',r[1],'\\t',r[2])\n",
    "        \n",
    "        rec_id=int(input('Pass id which you want to edit')\n",
    "        cur1=cn.cursor()\n",
    "        update_command='''\n",
    "            update tbl_gmail\n",
    "            set isspam=:s\n",
    "            where ID=:r\n",
    "        '''\n",
    "        para=['Y',rec_id]\n",
    "        cur1.execute(update_command,para)\n",
    "        cn.commit()\n",
    "    except:\n",
    "        print('Error in connection and command')\n",
    "    finally:\n",
    "        cn.close()\n",
    "                       \n",
    "        cn=None\n",
    "         "
   ]
  },
  {
   "cell_type": "code",
   "execution_count": null,
   "metadata": {},
   "outputs": [],
   "source": []
  }
 ],
 "metadata": {
  "kernelspec": {
   "display_name": "Python 3",
   "language": "python",
   "name": "python3"
  },
  "language_info": {
   "codemirror_mode": {
    "name": "ipython",
    "version": 3
   },
   "file_extension": ".py",
   "mimetype": "text/x-python",
   "name": "python",
   "nbconvert_exporter": "python",
   "pygments_lexer": "ipython3",
   "version": "3.7.3"
  }
 },
 "nbformat": 4,
 "nbformat_minor": 2
}
