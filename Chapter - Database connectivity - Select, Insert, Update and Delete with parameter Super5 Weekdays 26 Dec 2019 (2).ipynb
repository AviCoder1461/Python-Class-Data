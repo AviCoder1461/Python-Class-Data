{
 "cells": [
  {
   "cell_type": "code",
   "execution_count": 9,
   "metadata": {},
   "outputs": [],
   "source": [
    "import cx_Oracle as cx1"
   ]
  },
  {
   "cell_type": "code",
   "execution_count": 13,
   "metadata": {},
   "outputs": [
    {
     "name": "stdout",
     "output_type": "stream",
     "text": [
      "(1200, 'Mayank', None, None, None, 5000.0, 0.0, 40)\n",
      "(1000, 'RAZA', 'ANALYST', 1100, None, 3000.0, None, 20)\n",
      "(7369, 'SMITH', 'CLERK', 7902, datetime.datetime(1980, 12, 17, 0, 0), 800.0, None, 20)\n",
      "(7499, 'ALLEN', 'SALESMAN', 7698, datetime.datetime(1981, 2, 20, 0, 0), 1600.0, 300.0, 30)\n",
      "(7521, 'WARD', 'SALESMAN', 7698, datetime.datetime(1981, 2, 22, 0, 0), 1250.0, 500.0, 30)\n",
      "(7566, 'JONES', 'MANAGER', 7839, datetime.datetime(1981, 4, 2, 0, 0), 2975.0, None, 20)\n",
      "(7654, 'MARTIN', 'SALESMAN', 7698, datetime.datetime(1981, 9, 28, 0, 0), 1250.0, 1400.0, 30)\n",
      "(7698, 'BLAKE', 'MANAGER', 7839, datetime.datetime(1981, 5, 1, 0, 0), 2850.0, None, 30)\n",
      "(7782, 'CLARK', 'MANAGER', 7839, datetime.datetime(1981, 6, 9, 0, 0), 2450.0, None, 10)\n",
      "(7788, 'SCOTT', 'ANALYST', 7566, datetime.datetime(1987, 4, 19, 0, 0), 3000.0, None, 20)\n",
      "(7839, 'KING', 'PRESIDENT', None, datetime.datetime(1981, 11, 17, 0, 0), 5000.0, None, 10)\n",
      "(7844, 'TURNER', 'SALESMAN', 7698, datetime.datetime(1981, 9, 8, 0, 0), 1500.0, 0.0, 30)\n",
      "(7876, 'ADAMS', 'CLERK', 7788, datetime.datetime(1987, 5, 23, 0, 0), 1100.0, None, 20)\n",
      "(7900, 'JAMES', 'CLERK', 7698, datetime.datetime(1981, 12, 3, 0, 0), 950.0, None, 30)\n",
      "(7902, 'FORD', 'ANALYST', 7566, datetime.datetime(1981, 12, 3, 0, 0), 3000.0, None, 20)\n",
      "(7934, 'MILLER', 'CLERK', 7782, datetime.datetime(1982, 1, 23, 0, 0), 1300.0, None, 10)\n",
      "Finally called\n"
     ]
    }
   ],
   "source": [
    "# Select command\n",
    "try:\n",
    "    cn=cx1.connect('scott/tiger@localhost:1521/orcl')\n",
    "    c=cn.cursor()\n",
    "    c.execute('Select * from emp where sal between 800 and 5000')\n",
    "    for record in c:\n",
    "        print(record)\n",
    "except:\n",
    "    print('Print connection and operations error')\n",
    "finally:\n",
    "    print('Finally called')\n",
    "    c=None\n",
    "    cn.close()\n",
    "    cn=None"
   ]
  },
  {
   "cell_type": "code",
   "execution_count": 12,
   "metadata": {},
   "outputs": [],
   "source": [
    " cn=cx1.connect('scott/tiger@localhost:1521/orcl')"
   ]
  },
  {
   "cell_type": "code",
   "execution_count": 14,
   "metadata": {},
   "outputs": [
    {
     "name": "stdout",
     "output_type": "stream",
     "text": [
      "(1100, 'NEIL', 'ANALYST', 7839, datetime.datetime(2019, 11, 17, 0, 0), 6000.0, None, 20)\n",
      "(1104, 'R', 'DEVELOPER', 7844, None, 5500.0, None, 10)\n",
      "(1000, 'RAZA', 'ANALYST', 1100, None, 3000.0, None, 20)\n",
      "(1901, 'Sikandar', None, None, None, None, None, 20)\n",
      "(7369, 'SMITH', 'CLERK', 7902, datetime.datetime(1980, 12, 17, 0, 0), 800.0, None, 20)\n",
      "(7566, 'JONES', 'MANAGER', 7839, datetime.datetime(1981, 4, 2, 0, 0), 2975.0, None, 20)\n",
      "(7782, 'CLARK', 'MANAGER', 7839, datetime.datetime(1981, 6, 9, 0, 0), 2450.0, None, 10)\n",
      "(7788, 'SCOTT', 'ANALYST', 7566, datetime.datetime(1987, 4, 19, 0, 0), 3000.0, None, 20)\n",
      "(7839, 'KING', 'PRESIDENT', None, datetime.datetime(1981, 11, 17, 0, 0), 5000.0, None, 10)\n",
      "(7876, 'ADAMS', 'CLERK', 7788, datetime.datetime(1987, 5, 23, 0, 0), 1100.0, None, 20)\n",
      "(7902, 'FORD', 'ANALYST', 7566, datetime.datetime(1981, 12, 3, 0, 0), 3000.0, None, 20)\n",
      "(7934, 'MILLER', 'CLERK', 7782, datetime.datetime(1982, 1, 23, 0, 0), 1300.0, None, 10)\n",
      "Finally called\n"
     ]
    }
   ],
   "source": [
    "# Select in operator\n",
    "try:\n",
    "    cn=cx1.connect('scott/tiger@localhost:1521/orcl')\n",
    "    c=cn.cursor()\n",
    "    c.execute('Select * from emp where deptno in (10,20)')\n",
    "    for record in c:\n",
    "        print(record)\n",
    "except:\n",
    "    print('Print connection and operations error')\n",
    "finally:\n",
    "    print('Finally called')\n",
    "    c=None\n",
    "    cn.close()\n",
    "    cn=None"
   ]
  },
  {
   "cell_type": "code",
   "execution_count": 20,
   "metadata": {},
   "outputs": [
    {
     "name": "stdout",
     "output_type": "stream",
     "text": [
      "Finally called\n"
     ]
    }
   ],
   "source": [
    "# table creations\n",
    "try:\n",
    "    cn=cx1.connect('scott/tiger@localhost:1521/orcl')\n",
    "    c=cn.cursor()\n",
    "    table_create='''\n",
    "                create table Super52 (ID number(2) primary key, \n",
    "                name varchar(100),\n",
    "                course varchar(50)\n",
    "                )\n",
    "                '''\n",
    "    c.execute(table_create)\n",
    "    cn.commit()\n",
    "    \n",
    "except:\n",
    "    print('Print connection and operations error')\n",
    "finally:\n",
    "    print('Finally called')\n",
    "    c=None\n",
    "    cn.close()\n",
    "    cn=None"
   ]
  },
  {
   "cell_type": "code",
   "execution_count": 19,
   "metadata": {},
   "outputs": [],
   "source": [
    "cn=cx1.connect('scott/tiger@localhost:1521/orcl')\n",
    "c=cn.cursor()\n",
    "table_create='''\n",
    "                create table Super51 (ID number(2) primary key, \n",
    "                name varchar(100),\n",
    "                course varchar(50)\n",
    "                )\n",
    "                '''\n",
    "c.execute(table_create)\n",
    "cn.commit()"
   ]
  },
  {
   "cell_type": "code",
   "execution_count": 22,
   "metadata": {},
   "outputs": [
    {
     "name": "stdout",
     "output_type": "stream",
     "text": [
      "Finally called\n"
     ]
    }
   ],
   "source": [
    "# Add multiple rows using insert and select command\n",
    "try:\n",
    "    cn=cx1.connect('scott/tiger@localhost:1521/orcl')\n",
    "    c=cn.cursor()\n",
    "    ins_data='''\n",
    "    insert into super5 \n",
    "    select 2,'Avinash Kumar','Data Science' from dual\n",
    "    union all\n",
    "    select 3,'Amar Bharti','DS' from dual\n",
    "    union all\n",
    "    select 4, 'Dhurv kumar tiwari','Data Science' from dual\n",
    "    '''\n",
    "    c.execute(ins_data)\n",
    "    cn.commit()\n",
    "except:\n",
    "    print('Print connection and operations error')\n",
    "finally:\n",
    "    print('Finally called')\n",
    "    c=None\n",
    "    cn.close()\n",
    "    cn=None"
   ]
  },
  {
   "cell_type": "code",
   "execution_count": 28,
   "metadata": {},
   "outputs": [
    {
     "name": "stdout",
     "output_type": "stream",
     "text": [
      "Enter number7\n",
      "Enter nameRahul Singh\n",
      "Enter courseTesting\n",
      "Finally called\n"
     ]
    }
   ],
   "source": [
    "# insert record using para meter\n",
    "try:\n",
    "    \n",
    "    Id=int(input('Enter number'))\n",
    "    nm=input('Enter name')\n",
    "    crs=input('Enter course')\n",
    "    janak=[Id,nm,crs]\n",
    "    cn=cx1.connect('scott/tiger@localhost:1521/orcl')\n",
    "    c=cn.cursor()\n",
    "    ins_data='''\n",
    "    insert into Super5 values(:id,:nm,:crs)\n",
    "    '''\n",
    "    c.execute(ins_data,janak)\n",
    "    cn.commit()\n",
    "except:\n",
    "    print('Print connection and operations error')\n",
    "finally:\n",
    "    print('Finally called')\n",
    "    c=None\n",
    "    cn.close()\n",
    "    cn=None"
   ]
  },
  {
   "cell_type": "code",
   "execution_count": 35,
   "metadata": {},
   "outputs": [
    {
     "name": "stdout",
     "output_type": "stream",
     "text": [
      "Enter number1\n",
      "Enter nameJanak Joshi\n",
      "Finally called\n"
     ]
    }
   ],
   "source": [
    "# update using parameter\n",
    "try:\n",
    "    \n",
    "    Id=int(input('Enter number'))\n",
    "    nm=input('Enter name')\n",
    "    janak=[nm,Id]\n",
    "    cn=cx1.connect('scott/tiger@localhost:1521/orcl')\n",
    "    c=cn.cursor()\n",
    "    upd_data='''\n",
    "    update Super5 \n",
    "    set name=:nm\n",
    "    where ID=:Id\n",
    "    '''\n",
    "    c.execute(upd_data,janak)\n",
    "    cn.commit()\n",
    "except:\n",
    "    print('Print connection and operations error')\n",
    "finally:\n",
    "    print('Finally called')\n",
    "    c=None\n",
    "    cn.close()\n",
    "    cn=None"
   ]
  },
  {
   "cell_type": "code",
   "execution_count": 42,
   "metadata": {},
   "outputs": [
    {
     "name": "stdout",
     "output_type": "stream",
     "text": [
      "Enter number5\n",
      "Finally called\n"
     ]
    }
   ],
   "source": [
    "# delete using parameter\n",
    "try:\n",
    "    \n",
    "    Id=int(input('Enter number'))\n",
    "    janak=[Id]\n",
    "    cn=cx1.connect('scott/tiger@localhost:1521/orcl')\n",
    "    c=cn.cursor()\n",
    "    del_data='''\n",
    "    Delete from Super5\n",
    "    where ID=:Id\n",
    "    '''\n",
    "    c.execute(del_data,janak)\n",
    "    cn.commit()\n",
    "except:\n",
    "    print('Print connection and operations error')\n",
    "finally:\n",
    "    print('Finally called')\n",
    "    c=None\n",
    "    cn.close()\n",
    "    cn=None"
   ]
  }
 ],
 "metadata": {
  "kernelspec": {
   "display_name": "Python 3",
   "language": "python",
   "name": "python3"
  },
  "language_info": {
   "codemirror_mode": {
    "name": "ipython",
    "version": 3
   },
   "file_extension": ".py",
   "mimetype": "text/x-python",
   "name": "python",
   "nbconvert_exporter": "python",
   "pygments_lexer": "ipython3",
   "version": "3.7.3"
  }
 },
 "nbformat": 4,
 "nbformat_minor": 2
}
