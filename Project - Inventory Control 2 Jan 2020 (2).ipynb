{
 "cells": [
  {
   "cell_type": "markdown",
   "metadata": {},
   "source": [
    "# Project based on Inventory controll using Python and Oracle\n",
    "### Item\n",
    "    ## ADD\n",
    "    ## Update\n",
    "    ## Delete\n",
    "### Customer\n",
    "    ## ADD \n",
    "    ## Update\n",
    "    ## Delete\n",
    "### Invoice\n",
    "    ## Create Invoice\n",
    "# Report\n",
    "### Invoice Report\n",
    "### Item Report"
   ]
  },
  {
   "cell_type": "code",
   "execution_count": 1,
   "metadata": {},
   "outputs": [],
   "source": [
    "import cx_Oracle as cx"
   ]
  },
  {
   "cell_type": "code",
   "execution_count": 2,
   "metadata": {},
   "outputs": [],
   "source": [
    "class QueryString:\n",
    "    __InsertItem='''\n",
    "    insert into Item_Master (item_id,item_name,item_desc,pur_price,qty) \n",
    "    values(:itemid,:itemname,:itemdesc,:purprice,:qty)\n",
    "    '''\n",
    "    __UpdateItem='''\n",
    "    Update Item_Master\n",
    "    Set ITEM_NAME=:itemname,\n",
    "     ITEM_DESC=:itemdesc,\n",
    "     PUR_PRICE=:purprice,\n",
    "      QTY=:qty\n",
    "      where ITEM_ID=:id\n",
    "    '''\n",
    "    __DeleteItem='''\n",
    "    Delete From Item_Master\n",
    "    where ITEM_ID=:id\n",
    "    '''\n",
    "    __InsertCutomer='''\n",
    "    insert into Cust_Master \n",
    "    values(:custid,:custname,:custaddress,:custcity)\n",
    "    '''\n",
    "    __UpdateCustomer='''\n",
    "    update Cust_Master\n",
    "    set Cust_Name=:custname,\n",
    "    Cust_Address=:custaddress,\n",
    "    City=:city\n",
    "    where Cust_ID=:id\n",
    "    '''\n",
    "    __DeleteCustomer='''\n",
    "    Delete from Cust_Master\n",
    "    where CustID=:id\n",
    "    '''\n",
    "    __InvoiceCreate='''\n",
    "    Insert into Invoice values(:invid,:itemid,:custid,:qty)\n",
    "    '''"
   ]
  },
  {
   "cell_type": "code",
   "execution_count": 3,
   "metadata": {},
   "outputs": [
    {
     "name": "stdout",
     "output_type": "stream",
     "text": [
      "\n",
      "    insert into Item_Master (item_id,item_name,item_desc,pur_price,qty) \n",
      "    values(:itemid,:itemname,:itemdesc,:purprice,:qty)\n",
      "    \n"
     ]
    }
   ],
   "source": [
    "q=QueryString()\n",
    "print(q._QueryString__InsertItem)"
   ]
  },
  {
   "cell_type": "code",
   "execution_count": 4,
   "metadata": {},
   "outputs": [],
   "source": [
    "# connections\n",
    "def Oracle_Connections():\n",
    "    try:\n",
    "        cn=cx.connect('scott/tiger@localhost:1521/orcl')\n",
    "        cur=cn.cursor()\n",
    "    except:\n",
    "        print('connection error')\n",
    "    return cn,cur"
   ]
  },
  {
   "cell_type": "code",
   "execution_count": 5,
   "metadata": {},
   "outputs": [],
   "source": [
    "def FactoryInsertUpdateDelete(querystring,valuepara):\n",
    "    try:\n",
    "        conn,curs=Oracle_Connections()\n",
    "        curs.execute(querystring,valuepara)\n",
    "        conn.commit()\n",
    "    except:\n",
    "        print('Problem in insertions')\n",
    "    finally:\n",
    "        curs=None\n",
    "        conn=none\n",
    "    "
   ]
  },
  {
   "cell_type": "code",
   "execution_count": 6,
   "metadata": {},
   "outputs": [
    {
     "name": "stdout",
     "output_type": "stream",
     "text": [
      "{'itemid': 5, 'itemname': 'Key board', 'itemdesc': 'Logitech Key board', 'purprice': 300.99, 'qty': 20}\n",
      "\n",
      "    insert into Item_Master (item_id,item_name,item_desc,pur_price,qty) \n",
      "    values(:itemid,:itemname,:itemdesc,:purprice,:qty)\n",
      "    \n"
     ]
    }
   ],
   "source": [
    "'''\n",
    "def FactoryInsertUpdateDelete(querystring,valuepara):\n",
    "    cnn,curs=Oracle_Connections()\n",
    "    print(valuepara)\n",
    "    print(querystring)\n",
    "    curs.execute(querystring,valuepara)\n",
    "    cnn.commit()\n",
    "Q=QueryString()\n",
    "\n",
    "FactoryInsertUpdateDelete(Q._QueryString__InsertItem,L)\n",
    "'''\n"
   ]
  },
  {
   "cell_type": "code",
   "execution_count": 7,
   "metadata": {},
   "outputs": [],
   "source": [
    "# Menu\n",
    "def MainMenu():\n",
    "    print('1. Item')\n",
    "    print('2. Customer')\n",
    "    print('3. Invoice')\n",
    "    print('4. Report')\n",
    "    ans=int(input('Enter Your choice'))\n",
    "    return ans"
   ]
  },
  {
   "cell_type": "code",
   "execution_count": 8,
   "metadata": {},
   "outputs": [],
   "source": [
    "# Item Submenu\n",
    "def SubMenuItem():\n",
    "    print('1. Add Item')\n",
    "    print('2. Update Item')\n",
    "    print('3. Delete Item')\n",
    "    ansitem=int(input('Etner your choice'))\n",
    "    return ansitem\n",
    "    "
   ]
  },
  {
   "cell_type": "code",
   "execution_count": 9,
   "metadata": {},
   "outputs": [],
   "source": [
    "# Customer Submenu\n",
    "def SubMenuCustomer():\n",
    "    print('1. Add Item')\n",
    "    print('2. Update Item')\n",
    "    print('3. Delete Item')\n",
    "    anscust=int(input('Etner your choice'))\n",
    "    return anscust"
   ]
  },
  {
   "cell_type": "code",
   "execution_count": 10,
   "metadata": {},
   "outputs": [],
   "source": [
    "# Report Sub menu\n",
    "def ReportSubMenu():\n",
    "    print('1.Invoice Report')\n",
    "    print('2. Item Report')\n",
    "    ansrep=int(input('Enter report type'))\n",
    "    return ansrep"
   ]
  },
  {
   "cell_type": "code",
   "execution_count": 11,
   "metadata": {},
   "outputs": [],
   "source": [
    "def ReportSubMenu1():\n",
    "    print('1. Daily Report')\n",
    "    print('2. Monthly Report')\n",
    "    print('3. Yearly Report')\n",
    "    ansrep1=int(input('Enter your choice'))\n",
    "    return ansrep1"
   ]
  },
  {
   "cell_type": "code",
   "execution_count": 12,
   "metadata": {},
   "outputs": [],
   "source": [
    "def ReportSubMenu2():\n",
    "    print('1. Daily Report')\n",
    "    print('2. Monthly Report')\n",
    "    print('3. Yearly Report')\n",
    "    ansrep2=int(input('Enter your choice'))\n",
    "    return ansrep2"
   ]
  },
  {
   "cell_type": "code",
   "execution_count": 13,
   "metadata": {},
   "outputs": [],
   "source": [
    "\n",
    "def Add_Item():\n",
    "    item_name=input('Enter Item Name')\n",
    "    item_desc=input('Enter item description')\n",
    "    pur_prices=float(input('Enter the Purchase Price'))\n",
    "    qty=int(input('Enter quantity'))\n",
    "    "
   ]
  },
  {
   "cell_type": "code",
   "execution_count": 14,
   "metadata": {},
   "outputs": [],
   "source": [
    "# Model\n",
    "class Item:\n",
    "    def __init__(self):\n",
    "        self.id=0\n",
    "        self.itemname=None\n",
    "        self.itemdesc=None\n",
    "        self.pur_price=0.0\n",
    "        self.qty=0\n",
    "    @property\n",
    "    def ID(self):\n",
    "        return self.id\n",
    "    @ID.setter\n",
    "    def ID(self,_id):\n",
    "        self.id=_id\n",
    "        \n",
    "    @property\n",
    "    def Iname(self):\n",
    "        return self.itemname\n",
    "    @Iname.setter\n",
    "    def Iname(self,_in):\n",
    "        if(len(_in)>2):\n",
    "            self.itemname=_in\n",
    "        else:\n",
    "            return None\n",
    "    @property\n",
    "    def Desc(self):\n",
    "        return self.itemdesc\n",
    "    @Desc.setter\n",
    "    def Desc(self,_ds):\n",
    "        self.itemdesc=_ds\n",
    "    @property\n",
    "    def Price(self):\n",
    "        return self.pur_price\n",
    "    @Price.setter\n",
    "    def Price(self,pr):\n",
    "        self.pur_price=pr\n",
    "    @property\n",
    "    def Quantity(self):\n",
    "        return self.qty\n",
    "    @Quantity.setter\n",
    "    def Quantity(self,qt):\n",
    "        self.qty=qt"
   ]
  },
  {
   "cell_type": "code",
   "execution_count": 17,
   "metadata": {},
   "outputs": [],
   "source": [
    "def Item_insert():\n",
    "    I=Item()\n",
    "    Q=QueryString()\n",
    "    I.ID=int(input('Enter the item id'))\n",
    "    I.Iname=input('Etner Item Name')\n",
    "    I.Desc=input('Enter the Item Descriptions')\n",
    "    I.Price=float(input('Etner Item Price'))\n",
    "    I.Quantity=int(input('Enter Item Quantity'))\n",
    "    #L=[I.Iname,I.Desc,I.Price,I.Quantity]\n",
    "    L={'itemid':I.ID,'itemname':I.Iname,'itemdesc':I.Desc,'purprice':I.Price,'qty':I.Quantity}\n",
    "    FactoryInsertUpdateDelete(Q._QueryString__InsertItem,L)"
   ]
  },
  {
   "cell_type": "code",
   "execution_count": 18,
   "metadata": {},
   "outputs": [
    {
     "name": "stdout",
     "output_type": "stream",
     "text": [
      "Enter the item id7\n",
      "Etner Item NamePrinter\n",
      "Enter the Item DescriptionsHP Lasor Printer\n",
      "Etner Item Price2000.99\n",
      "Enter Item Quantity2\n",
      "{'itemid': 7, 'itemname': 'Printer', 'itemdesc': 'HP Lasor Printer', 'purprice': 2000.99, 'qty': 2}\n",
      "\n",
      "    insert into Item_Master (item_id,item_name,item_desc,pur_price,qty) \n",
      "    values(:itemid,:itemname,:itemdesc,:purprice,:qty)\n",
      "    \n"
     ]
    }
   ],
   "source": [
    "Item_insert()"
   ]
  },
  {
   "cell_type": "code",
   "execution_count": 1,
   "metadata": {},
   "outputs": [],
   "source": [
    "import numpy as np"
   ]
  },
  {
   "cell_type": "code",
   "execution_count": 2,
   "metadata": {},
   "outputs": [
    {
     "data": {
      "text/plain": [
       "13.341664064126334"
      ]
     },
     "execution_count": 2,
     "metadata": {},
     "output_type": "execute_result"
    }
   ],
   "source": [
    "val=13+3J\n",
    "np.abs(val)"
   ]
  },
  {
   "cell_type": "code",
   "execution_count": 3,
   "metadata": {},
   "outputs": [
    {
     "data": {
      "text/plain": [
       "1000"
      ]
     },
     "execution_count": 3,
     "metadata": {},
     "output_type": "execute_result"
    }
   ],
   "source": [
    "val1=-1000\n",
    "np.abs(val1)"
   ]
  },
  {
   "cell_type": "code",
   "execution_count": 4,
   "metadata": {},
   "outputs": [
    {
     "ename": "ZeroDivisionError",
     "evalue": "division by zero",
     "output_type": "error",
     "traceback": [
      "\u001b[1;31m---------------------------------------------------------------------------\u001b[0m",
      "\u001b[1;31mZeroDivisionError\u001b[0m                         Traceback (most recent call last)",
      "\u001b[1;32m<ipython-input-4-14a770810d93>\u001b[0m in \u001b[0;36m<module>\u001b[1;34m\u001b[0m\n\u001b[1;32m----> 1\u001b[1;33m \u001b[0mval\u001b[0m\u001b[1;33m=\u001b[0m\u001b[1;36m1\u001b[0m\u001b[1;33m/\u001b[0m\u001b[1;36m0\u001b[0m\u001b[1;33m\u001b[0m\u001b[1;33m\u001b[0m\u001b[0m\n\u001b[0m",
      "\u001b[1;31mZeroDivisionError\u001b[0m: division by zero"
     ]
    }
   ],
   "source": [
    "val=1/0"
   ]
  },
  {
   "cell_type": "code",
   "execution_count": 5,
   "metadata": {},
   "outputs": [
    {
     "ename": "TypeError",
     "evalue": "unsupported operand type(s) for /: 'str' and 'int'",
     "output_type": "error",
     "traceback": [
      "\u001b[1;31m---------------------------------------------------------------------------\u001b[0m",
      "\u001b[1;31mTypeError\u001b[0m                                 Traceback (most recent call last)",
      "\u001b[1;32m<ipython-input-5-d39c08ba756f>\u001b[0m in \u001b[0;36m<module>\u001b[1;34m\u001b[0m\n\u001b[1;32m----> 1\u001b[1;33m \u001b[0mval\u001b[0m\u001b[1;33m=\u001b[0m\u001b[1;34m'Faheem'\u001b[0m\u001b[1;33m/\u001b[0m\u001b[1;36m0\u001b[0m\u001b[1;33m\u001b[0m\u001b[1;33m\u001b[0m\u001b[0m\n\u001b[0m",
      "\u001b[1;31mTypeError\u001b[0m: unsupported operand type(s) for /: 'str' and 'int'"
     ]
    }
   ],
   "source": [
    "val='Faheem'/0"
   ]
  },
  {
   "cell_type": "code",
   "execution_count": 18,
   "metadata": {},
   "outputs": [],
   "source": [
    "l=[10,20,30,10,20,30,35,10,20,10,30,10,10]"
   ]
  },
  {
   "cell_type": "code",
   "execution_count": 19,
   "metadata": {},
   "outputs": [],
   "source": [
    "import pandas as pd\n",
    "df=pd.DataFrame(l,columns=['col2'])"
   ]
  },
  {
   "cell_type": "code",
   "execution_count": 20,
   "metadata": {},
   "outputs": [
    {
     "data": {
      "text/html": [
       "<div>\n",
       "<style scoped>\n",
       "    .dataframe tbody tr th:only-of-type {\n",
       "        vertical-align: middle;\n",
       "    }\n",
       "\n",
       "    .dataframe tbody tr th {\n",
       "        vertical-align: top;\n",
       "    }\n",
       "\n",
       "    .dataframe thead th {\n",
       "        text-align: right;\n",
       "    }\n",
       "</style>\n",
       "<table border=\"1\" class=\"dataframe\">\n",
       "  <thead>\n",
       "    <tr style=\"text-align: right;\">\n",
       "      <th></th>\n",
       "      <th>col2</th>\n",
       "    </tr>\n",
       "  </thead>\n",
       "  <tbody>\n",
       "    <tr>\n",
       "      <th>0</th>\n",
       "      <td>10</td>\n",
       "    </tr>\n",
       "    <tr>\n",
       "      <th>1</th>\n",
       "      <td>20</td>\n",
       "    </tr>\n",
       "    <tr>\n",
       "      <th>2</th>\n",
       "      <td>30</td>\n",
       "    </tr>\n",
       "    <tr>\n",
       "      <th>3</th>\n",
       "      <td>10</td>\n",
       "    </tr>\n",
       "    <tr>\n",
       "      <th>4</th>\n",
       "      <td>20</td>\n",
       "    </tr>\n",
       "    <tr>\n",
       "      <th>5</th>\n",
       "      <td>30</td>\n",
       "    </tr>\n",
       "    <tr>\n",
       "      <th>6</th>\n",
       "      <td>35</td>\n",
       "    </tr>\n",
       "    <tr>\n",
       "      <th>7</th>\n",
       "      <td>10</td>\n",
       "    </tr>\n",
       "    <tr>\n",
       "      <th>8</th>\n",
       "      <td>20</td>\n",
       "    </tr>\n",
       "    <tr>\n",
       "      <th>9</th>\n",
       "      <td>10</td>\n",
       "    </tr>\n",
       "    <tr>\n",
       "      <th>10</th>\n",
       "      <td>30</td>\n",
       "    </tr>\n",
       "    <tr>\n",
       "      <th>11</th>\n",
       "      <td>10</td>\n",
       "    </tr>\n",
       "    <tr>\n",
       "      <th>12</th>\n",
       "      <td>10</td>\n",
       "    </tr>\n",
       "  </tbody>\n",
       "</table>\n",
       "</div>"
      ],
      "text/plain": [
       "    col2\n",
       "0     10\n",
       "1     20\n",
       "2     30\n",
       "3     10\n",
       "4     20\n",
       "5     30\n",
       "6     35\n",
       "7     10\n",
       "8     20\n",
       "9     10\n",
       "10    30\n",
       "11    10\n",
       "12    10"
      ]
     },
     "execution_count": 20,
     "metadata": {},
     "output_type": "execute_result"
    }
   ],
   "source": [
    "df"
   ]
  },
  {
   "cell_type": "code",
   "execution_count": null,
   "metadata": {},
   "outputs": [],
   "source": []
  },
  {
   "cell_type": "code",
   "execution_count": 11,
   "metadata": {},
   "outputs": [
    {
     "data": {
      "text/html": [
       "<div>\n",
       "<style scoped>\n",
       "    .dataframe tbody tr th:only-of-type {\n",
       "        vertical-align: middle;\n",
       "    }\n",
       "\n",
       "    .dataframe tbody tr th {\n",
       "        vertical-align: top;\n",
       "    }\n",
       "\n",
       "    .dataframe thead th {\n",
       "        text-align: right;\n",
       "    }\n",
       "</style>\n",
       "<table border=\"1\" class=\"dataframe\">\n",
       "  <thead>\n",
       "    <tr style=\"text-align: right;\">\n",
       "      <th></th>\n",
       "      <th>0</th>\n",
       "    </tr>\n",
       "    <tr>\n",
       "      <th>0</th>\n",
       "      <th></th>\n",
       "    </tr>\n",
       "  </thead>\n",
       "  <tbody>\n",
       "    <tr>\n",
       "      <th>10</th>\n",
       "      <td>10</td>\n",
       "    </tr>\n",
       "    <tr>\n",
       "      <th>20</th>\n",
       "      <td>20</td>\n",
       "    </tr>\n",
       "    <tr>\n",
       "      <th>30</th>\n",
       "      <td>30</td>\n",
       "    </tr>\n",
       "    <tr>\n",
       "      <th>10</th>\n",
       "      <td>10</td>\n",
       "    </tr>\n",
       "    <tr>\n",
       "      <th>20</th>\n",
       "      <td>20</td>\n",
       "    </tr>\n",
       "    <tr>\n",
       "      <th>30</th>\n",
       "      <td>30</td>\n",
       "    </tr>\n",
       "    <tr>\n",
       "      <th>35</th>\n",
       "      <td>35</td>\n",
       "    </tr>\n",
       "  </tbody>\n",
       "</table>\n",
       "</div>"
      ],
      "text/plain": [
       "     0\n",
       "0     \n",
       "10  10\n",
       "20  20\n",
       "30  30\n",
       "10  10\n",
       "20  20\n",
       "30  30\n",
       "35  35"
      ]
     },
     "execution_count": 11,
     "metadata": {},
     "output_type": "execute_result"
    }
   ],
   "source": [
    "df"
   ]
  },
  {
   "cell_type": "code",
   "execution_count": 22,
   "metadata": {},
   "outputs": [
    {
     "data": {
      "text/plain": [
       "10    6\n",
       "30    3\n",
       "20    3\n",
       "35    1\n",
       "Name: col2, dtype: int64"
      ]
     },
     "execution_count": 22,
     "metadata": {},
     "output_type": "execute_result"
    }
   ],
   "source": [
    "df['col2'].value_counts()"
   ]
  },
  {
   "cell_type": "code",
   "execution_count": null,
   "metadata": {},
   "outputs": [],
   "source": []
  }
 ],
 "metadata": {
  "kernelspec": {
   "display_name": "Python 3",
   "language": "python",
   "name": "python3"
  },
  "language_info": {
   "codemirror_mode": {
    "name": "ipython",
    "version": 3
   },
   "file_extension": ".py",
   "mimetype": "text/x-python",
   "name": "python",
   "nbconvert_exporter": "python",
   "pygments_lexer": "ipython3",
   "version": "3.7.3"
  }
 },
 "nbformat": 4,
 "nbformat_minor": 2
}
