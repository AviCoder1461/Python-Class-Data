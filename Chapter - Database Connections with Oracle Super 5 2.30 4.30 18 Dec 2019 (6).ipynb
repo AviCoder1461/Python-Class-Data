{
 "cells": [
  {
   "cell_type": "code",
   "execution_count": 1,
   "metadata": {},
   "outputs": [],
   "source": [
    "import cx_Oracle as cx"
   ]
  },
  {
   "cell_type": "code",
   "execution_count": 3,
   "metadata": {},
   "outputs": [
    {
     "name": "stdout",
     "output_type": "stream",
     "text": [
      "(1100, 'NEIL', 'ANALYST', 7839, datetime.datetime(2019, 11, 17, 0, 0), 6000.0, None, 20)\n",
      "(1000, 'RAZA', 'ANALYST', 1100, None, 3000.0, None, 20)\n",
      "(1901, 'Sikandar', None, None, None, None, None, 20)\n",
      "(7369, 'SMITH', 'CLERK', 7902, datetime.datetime(1980, 12, 17, 0, 0), 800.0, None, 20)\n",
      "(7566, 'JONES', 'MANAGER', 7839, datetime.datetime(1981, 4, 2, 0, 0), 2975.0, None, 20)\n",
      "(7788, 'SCOTT', 'ANALYST', 7566, datetime.datetime(1987, 4, 19, 0, 0), 3000.0, None, 20)\n",
      "(7876, 'ADAMS', 'CLERK', 7788, datetime.datetime(1987, 5, 23, 0, 0), 1100.0, None, 20)\n",
      "(7902, 'FORD', 'ANALYST', 7566, datetime.datetime(1981, 12, 3, 0, 0), 3000.0, None, 20)\n"
     ]
    }
   ],
   "source": [
    "# connection create\n",
    "# scott - user name or schema name of oracle\n",
    "# tiger - password of scott user\n",
    "# localhost is the name of machine or server\n",
    "# 1521 is default port no of oracle\n",
    "# orcl is default service name (sid)\n",
    "try:\n",
    "    cn=cx.connect('scott/tiger@localhost:1521/orcl') # connection string\n",
    "    cur=cn.cursor() # open the cursor to allocate the result set\n",
    "    result=cur.execute('Select * from emp where deptno=20') # result set return from the oracle, will be allocated to the result variable\n",
    "    for r in result:\n",
    "        print(r)\n",
    "except:\n",
    "    print('Error in connection')\n",
    "finally:\n",
    "    cur=None\n",
    "    cn.close()\n",
    "    cn=None"
   ]
  },
  {
   "cell_type": "code",
   "execution_count": null,
   "metadata": {},
   "outputs": [],
   "source": []
  }
 ],
 "metadata": {
  "kernelspec": {
   "display_name": "Python 3",
   "language": "python",
   "name": "python3"
  },
  "language_info": {
   "codemirror_mode": {
    "name": "ipython",
    "version": 3
   },
   "file_extension": ".py",
   "mimetype": "text/x-python",
   "name": "python",
   "nbconvert_exporter": "python",
   "pygments_lexer": "ipython3",
   "version": "3.7.3"
  }
 },
 "nbformat": 4,
 "nbformat_minor": 2
}
