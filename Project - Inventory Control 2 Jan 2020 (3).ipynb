{
 "cells": [
  {
   "cell_type": "markdown",
   "metadata": {},
   "source": [
    "# Project based on Inventory controll using Python and Oracle\n",
    "### Item\n",
    "    ## ADD\n",
    "    ## Update\n",
    "    ## Delete\n",
    "### Customer\n",
    "    ## ADD \n",
    "    ## Update\n",
    "    ## Delete\n",
    "### Invoice\n",
    "    ## Create Invoice\n",
    "# Report\n",
    "### Invoice Report\n",
    "### Item Report"
   ]
  },
  {
   "cell_type": "code",
   "execution_count": 7,
   "metadata": {},
   "outputs": [],
   "source": [
    "import cx_Oracle as cx"
   ]
  },
  {
   "cell_type": "code",
   "execution_count": 10,
   "metadata": {},
   "outputs": [],
   "source": [
    "class QueryString:\n",
    "    __InsertItem='''\n",
    "    insert into Item_Master values(:itemid,:itemname,:itemdesc,:purprice,:qty)\n",
    "    '''\n",
    "    __UpdateItem='''\n",
    "    Update Item_Master\n",
    "    Set ITEM_NAME=:itemname,\n",
    "     ITEM_DESC=:itemdesc,\n",
    "     PUR_PRICE=:purprice,\n",
    "      QTY=:qty\n",
    "      where ITEM_ID=:id\n",
    "    '''\n",
    "    __DeleteItem='''\n",
    "    Delete From Item_Master\n",
    "    where ITEM_ID=:id\n",
    "    '''\n",
    "    __InsertCutomer='''\n",
    "    insert into Cust_Master \n",
    "    values(:custid,:custname,:custaddress,:custcity)\n",
    "    '''\n",
    "    __UpdateCustomer='''\n",
    "    update Cust_Master\n",
    "    set Cust_Name=:custname,\n",
    "    Cust_Address=:custaddress,\n",
    "    City=:city\n",
    "    where Cust_ID=:id\n",
    "    '''\n",
    "    __DeleteCustomer='''\n",
    "    Delete from Cust_Master\n",
    "    where CustID=:id\n",
    "    '''\n",
    "    __InvoiceCreate='''\n",
    "    Insert into Invoice values(:invid,:itemid,:custid,:qty)\n",
    "    '''"
   ]
  },
  {
   "cell_type": "code",
   "execution_count": 8,
   "metadata": {},
   "outputs": [],
   "source": [
    "# connections\n",
    "def Oracle_Connections():\n",
    "    try:\n",
    "        cn=cx.connect('scott/tiger@localhost:1521/orcl')\n",
    "    except:\n",
    "        print('connection error')\n",
    "    return cn"
   ]
  },
  {
   "cell_type": "code",
   "execution_count": 9,
   "metadata": {},
   "outputs": [],
   "source": [
    "def Oracle_Cursor():\n",
    "    try:\n",
    "        cnx=Oracle_Connections()\n",
    "        cur=cnx.cursor()\n",
    "    except:\n",
    "        print('Cursor creation\\'s error')\n",
    "    return cur"
   ]
  },
  {
   "cell_type": "code",
   "execution_count": 11,
   "metadata": {},
   "outputs": [],
   "source": [
    "def FactoryInsertUpdateDelete(querystring,valuepara):\n",
    "    try:\n",
    "        c=Oracle_Cursor()\n",
    "        c.execute(querystring,valuepara)\n",
    "        c.commit()\n",
    "    except:\n",
    "        print('Problem in insertions')\n",
    "    finally:\n",
    "        c=None\n",
    "    "
   ]
  },
  {
   "cell_type": "code",
   "execution_count": 1,
   "metadata": {},
   "outputs": [],
   "source": [
    "# Menu\n",
    "def MainMenu():\n",
    "    print('1. Item')\n",
    "    print('2. Customer')\n",
    "    print('3. Invoice')\n",
    "    print('4. Report')\n",
    "    ans=int(input('Enter Your choice'))\n",
    "    return ans"
   ]
  },
  {
   "cell_type": "code",
   "execution_count": 2,
   "metadata": {},
   "outputs": [],
   "source": [
    "# Item Submenu\n",
    "def SubMenuItem():\n",
    "    print('1. Add Item')\n",
    "    print('2. Update Item')\n",
    "    print('3. Delete Item')\n",
    "    ansitem=int(input('Etner your choice'))\n",
    "    return ansitem\n",
    "    "
   ]
  },
  {
   "cell_type": "code",
   "execution_count": 3,
   "metadata": {},
   "outputs": [],
   "source": [
    "# Customer Submenu\n",
    "def SubMenuCustomer():\n",
    "    print('1. Add Item')\n",
    "    print('2. Update Item')\n",
    "    print('3. Delete Item')\n",
    "    anscust=int(input('Etner your choice'))\n",
    "    return anscust"
   ]
  },
  {
   "cell_type": "code",
   "execution_count": 4,
   "metadata": {},
   "outputs": [],
   "source": [
    "# Report Sub menu\n",
    "def ReportSubMenu():\n",
    "    print('1.Invoice Report')\n",
    "    print('2. Item Report')\n",
    "    ansrep=int(input('Enter report type'))\n",
    "    return ansrep"
   ]
  },
  {
   "cell_type": "code",
   "execution_count": 5,
   "metadata": {},
   "outputs": [],
   "source": [
    "def ReportSubMenu1():\n",
    "    print('1. Daily Report')\n",
    "    print('2. Monthly Report')\n",
    "    print('3. Yearly Report')\n",
    "    ansrep1=int(input('Enter your choice'))\n",
    "    return ansrep1"
   ]
  },
  {
   "cell_type": "code",
   "execution_count": 6,
   "metadata": {},
   "outputs": [],
   "source": [
    "def ReportSubMenu2():\n",
    "    print('1. Daily Report')\n",
    "    print('2. Monthly Report')\n",
    "    print('3. Yearly Report')\n",
    "    ansrep2=int(input('Enter your choice'))\n",
    "    return ansrep2"
   ]
  },
  {
   "cell_type": "code",
   "execution_count": null,
   "metadata": {},
   "outputs": [],
   "source": [
    "\n",
    "def Add_Item():\n",
    "    item_name=input('Enter Item Name')\n",
    "    item_desc=input('Enter item description')\n",
    "    pur_prices=float(input('Enter the Purchase Price'))\n",
    "    qty=int(input('Enter quantity'))\n",
    "    "
   ]
  }
 ],
 "metadata": {
  "kernelspec": {
   "display_name": "Python 3",
   "language": "python",
   "name": "python3"
  },
  "language_info": {
   "codemirror_mode": {
    "name": "ipython",
    "version": 3
   },
   "file_extension": ".py",
   "mimetype": "text/x-python",
   "name": "python",
   "nbconvert_exporter": "python",
   "pygments_lexer": "ipython3",
   "version": "3.7.3"
  }
 },
 "nbformat": 4,
 "nbformat_minor": 2
}
